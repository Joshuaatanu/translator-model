{
 "cells": [
  {
   "cell_type": "code",
   "execution_count": 1,
   "metadata": {
    "id": "oaohxp2e0XrW"
   },
   "outputs": [],
   "source": [
    "import math\n",
    "import pandas as pd\n",
    "import numpy as np\n",
    "from matplotlib import pyplot as plt"
   ]
  },
  {
   "cell_type": "code",
   "execution_count": 2,
   "metadata": {
    "id": "hrKGkwE90l_y"
   },
   "outputs": [],
   "source": [
    "english_to_igala = {\n",
    "    'stone': 'òkwúta',\n",
    "    'you': 'ùwẹ',\n",
    "    'man': 'ọ́nẹkẹ̀lẹ',\n",
    "    'give': 'gbà',\n",
    "    'devil': 'ébíjè',\n",
    "    'we': 'àwa',\n",
    "    'house': 'únyí',\n",
    "    'fold': 'chẹ́',\n",
    "    'woman': 'ónobule',\n",
    "    'he': 'òñwu,',\n",
    "    'she': 'òñwu,',\n",
    "    'it': 'òñwu,',\n",
    "    'goat': 'éwó',\n",
    "    'brother': 'ọ́maye',\n",
    "    'sister': 'ọ́maye',\n",
    "    'visitors': 'ónonojò',\n",
    "    'strangers': 'ónonojò',\n",
    "    'I': 'òmi',\n",
    "    'steal': 'j’ójí',\n",
    "    'our': 'wa',\n",
    "    'father': 'Àtá',\n",
    "    'young man': 'òkólóbíáà'\n",
    "}\n",
    "\n",
    "igala_to_english = { v : k for k, v in english_to_igala.items() }"
   ]
  },
  {
   "cell_type": "code",
   "execution_count": 3,
   "metadata": {
    "id": "wYd6jM2r1qq6"
   },
   "outputs": [],
   "source": [
    "def translate(text, dictionary):\n",
    "    words = text.lower().split()\n",
    "    translated_words = [dictionary.get(word) for word in words]\n",
    "    return ' '.join(translated_words)\n",
    "\n",
    "def translate_english_to_igala(text):\n",
    "    return translate(text, english_to_igala)\n",
    "\n",
    "def translate_igala_to_english(text):\n",
    "    return translate(text, igala_to_english)"
   ]
  },
  {
   "cell_type": "code",
   "execution_count": 4,
   "metadata": {
    "colab": {
     "base_uri": "https://localhost:8080/"
    },
    "id": "SkDwjlpvBBzo",
    "outputId": "49332fb0-831f-4f74-eb8d-29c993f7b496"
   },
   "outputs": [
    {
     "name": "stdout",
     "output_type": "stream",
     "text": [
      "English to Igala: ónonojò j’ójí\n",
      "Igala to English: give stone\n"
     ]
    }
   ],
   "source": [
    "english_text = \"STRANGERS STEAL\"\n",
    "translated_text = translate_english_to_igala(english_text)\n",
    "print(\"English to Igala:\", translated_text)\n",
    "\n",
    "igala_text = \"gbà òkwúta\"\n",
    "translated_text = translate_igala_to_english(igala_text)\n",
    "print(\"Igala to English:\", translated_text)"
   ]
  },
  {
   "cell_type": "code",
   "execution_count": null,
   "metadata": {},
   "outputs": [],
   "source": []
  }
 ],
 "metadata": {
  "colab": {
   "provenance": []
  },
  "kernelspec": {
   "display_name": "Python 3 (ipykernel)",
   "language": "python",
   "name": "python3"
  },
  "language_info": {
   "codemirror_mode": {
    "name": "ipython",
    "version": 3
   },
   "file_extension": ".py",
   "mimetype": "text/x-python",
   "name": "python",
   "nbconvert_exporter": "python",
   "pygments_lexer": "ipython3",
   "version": "3.11.5"
  }
 },
 "nbformat": 4,
 "nbformat_minor": 1
}
